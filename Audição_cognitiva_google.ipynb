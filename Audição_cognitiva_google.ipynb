{
 "cells": [
  {
   "cell_type": "markdown",
   "metadata": {},
   "source": [
    "348365 CARLOS ALBERTO PARESCHI,\n",
    "349513 FELIPE DE ALMEIDA EIRES,\n",
    "349966 FERNANDO GRIECO FERES,\n",
    "349999 PERICLES ROBERTO TARQUINI."
   ]
  },
  {
   "cell_type": "code",
   "execution_count": 1,
   "metadata": {},
   "outputs": [
    {
     "name": "stdout",
     "output_type": "stream",
     "text": [
      "Requirement already satisfied: gtts in c:\\users\\tato\\appdata\\local\\programs\\python\\python311\\lib\\site-packages (2.5.1)\n",
      "Requirement already satisfied: requests<3,>=2.27 in c:\\users\\tato\\appdata\\local\\programs\\python\\python311\\lib\\site-packages (from gtts) (2.31.0)\n",
      "Requirement already satisfied: click<8.2,>=7.1 in c:\\users\\tato\\appdata\\roaming\\python\\python311\\site-packages (from gtts) (8.1.7)\n",
      "Requirement already satisfied: colorama in c:\\users\\tato\\appdata\\local\\programs\\python\\python311\\lib\\site-packages (from click<8.2,>=7.1->gtts) (0.4.6)\n",
      "Requirement already satisfied: charset-normalizer<4,>=2 in c:\\users\\tato\\appdata\\local\\programs\\python\\python311\\lib\\site-packages (from requests<3,>=2.27->gtts) (3.1.0)\n",
      "Requirement already satisfied: idna<4,>=2.5 in c:\\users\\tato\\appdata\\local\\programs\\python\\python311\\lib\\site-packages (from requests<3,>=2.27->gtts) (3.4)\n",
      "Requirement already satisfied: urllib3<3,>=1.21.1 in c:\\users\\tato\\appdata\\local\\programs\\python\\python311\\lib\\site-packages (from requests<3,>=2.27->gtts) (1.26.18)\n",
      "Requirement already satisfied: certifi>=2017.4.17 in c:\\users\\tato\\appdata\\local\\programs\\python\\python311\\lib\\site-packages (from requests<3,>=2.27->gtts) (2023.5.7)\n"
     ]
    },
    {
     "name": "stderr",
     "output_type": "stream",
     "text": [
      "\n",
      "[notice] A new release of pip is available: 23.3.1 -> 24.0\n",
      "[notice] To update, run: python.exe -m pip install --upgrade pip\n"
     ]
    },
    {
     "name": "stdout",
     "output_type": "stream",
     "text": [
      "Requirement already satisfied: SpeechRecognition in c:\\users\\tato\\appdata\\local\\programs\\python\\python311\\lib\\site-packages (3.10.1)\n",
      "Requirement already satisfied: requests>=2.26.0 in c:\\users\\tato\\appdata\\local\\programs\\python\\python311\\lib\\site-packages (from SpeechRecognition) (2.31.0)\n",
      "Requirement already satisfied: typing-extensions in c:\\users\\tato\\appdata\\local\\programs\\python\\python311\\lib\\site-packages (from SpeechRecognition) (4.8.0)\n",
      "Requirement already satisfied: charset-normalizer<4,>=2 in c:\\users\\tato\\appdata\\local\\programs\\python\\python311\\lib\\site-packages (from requests>=2.26.0->SpeechRecognition) (3.1.0)\n",
      "Requirement already satisfied: idna<4,>=2.5 in c:\\users\\tato\\appdata\\local\\programs\\python\\python311\\lib\\site-packages (from requests>=2.26.0->SpeechRecognition) (3.4)\n",
      "Requirement already satisfied: urllib3<3,>=1.21.1 in c:\\users\\tato\\appdata\\local\\programs\\python\\python311\\lib\\site-packages (from requests>=2.26.0->SpeechRecognition) (1.26.18)\n",
      "Requirement already satisfied: certifi>=2017.4.17 in c:\\users\\tato\\appdata\\local\\programs\\python\\python311\\lib\\site-packages (from requests>=2.26.0->SpeechRecognition) (2023.5.7)\n"
     ]
    },
    {
     "name": "stderr",
     "output_type": "stream",
     "text": [
      "\n",
      "[notice] A new release of pip is available: 23.3.1 -> 24.0\n",
      "[notice] To update, run: python.exe -m pip install --upgrade pip\n"
     ]
    },
    {
     "name": "stdout",
     "output_type": "stream",
     "text": [
      "Requirement already satisfied: pygame in c:\\users\\tato\\appdata\\local\\programs\\python\\python311\\lib\\site-packages (2.5.2)\n"
     ]
    },
    {
     "name": "stderr",
     "output_type": "stream",
     "text": [
      "\n",
      "[notice] A new release of pip is available: 23.3.1 -> 24.0\n",
      "[notice] To update, run: python.exe -m pip install --upgrade pip\n"
     ]
    },
    {
     "name": "stdout",
     "output_type": "stream",
     "text": [
      "Requirement already satisfied: pyaudio in c:\\users\\tato\\appdata\\local\\programs\\python\\python311\\lib\\site-packages (0.2.14)\n"
     ]
    },
    {
     "name": "stderr",
     "output_type": "stream",
     "text": [
      "\n",
      "[notice] A new release of pip is available: 23.3.1 -> 24.0\n",
      "[notice] To update, run: python.exe -m pip install --upgrade pip\n"
     ]
    }
   ],
   "source": [
    "!pip install gtts\n",
    "!pip install SpeechRecognition\n",
    "!pip install pygame\n",
    "!pip install pyaudio"
   ]
  },
  {
   "cell_type": "code",
   "execution_count": 2,
   "metadata": {},
   "outputs": [
    {
     "name": "stdout",
     "output_type": "stream",
     "text": [
      "pygame 2.5.2 (SDL 2.28.3, Python 3.11.3)\n",
      "Hello from the pygame community. https://www.pygame.org/contribute.html\n",
      "Seja bem-vindo à Quantum Finance! Diga seu nome de cliente.\n",
      "Aguardando o nome do cliente...\n",
      "Não foi possível entender.\n",
      "Seja bem-vindo à Quantum Finance! Diga seu nome de cliente.\n",
      "Aguardando o nome do cliente...\n",
      "Não foi possível entender.\n",
      "Seja bem-vindo à Quantum Finance! Diga seu nome de cliente.\n",
      "Aguardando o nome do cliente...\n",
      "Cliente disse: som vivo Tech\n",
      "Ficamos felizes em lhe atender, som vivo Tech.\n",
      "Nome do cliente: som vivo Tech\n",
      "Aqui estão as opções possíveis.\n",
      "Aguardando sua escolha...\n",
      "Processando sua resposta...\n",
      "Vou pedir novamente \n",
      "Aqui estão as opções possíveis.\n",
      "Aguardando sua escolha...\n",
      "Processando sua resposta...\n",
      "Você disse: 5\n",
      "Desculpe, responda somente com a alternativa desejada.\n",
      "Aqui estão as opções possíveis.\n",
      "Aguardando sua escolha...\n",
      "Processando sua resposta...\n",
      "Você disse: 3\n",
      "Bot: Você escolheu a opção 3. Vou seguir com sua solicitação. Infelizmente, todos estão ocupados assistindo BBB. Por favor, escolha essa opção mais tarde.\n",
      "Aqui estão as opções possíveis.\n",
      "Aguardando sua escolha...\n",
      "Processando sua resposta...\n",
      "Você disse: 1\n",
      "Bot: Você escolheu a opção 1. Vou seguir com sua solicitação. Seu saldo é de um milhão quinhentos e setenta e nove mil dólares.\n",
      "Aqui estão as opções possíveis.\n",
      "Aguardando sua escolha...\n",
      "Processando sua resposta...\n",
      "Você disse: 3\n",
      "Bot: Você escolheu a opção 3. Vou seguir com sua solicitação. Infelizmente, todos estão ocupados assistindo BBB. Por favor, escolha essa opção mais tarde.\n",
      "Aqui estão as opções possíveis.\n",
      "Aguardando sua escolha...\n",
      "Processando sua resposta...\n",
      "Você disse: 4\n",
      "Muito obrigado e conte sempre conosco.\n"
     ]
    }
   ],
   "source": [
    "import sys\n",
    "import tempfile\n",
    "from gtts import gTTS\n",
    "import speech_recognition as sr\n",
    "import pygame\n",
    "import os\n",
    "import time\n",
    "\n",
    "# Criar um diretório temporário para armazenar os arquivos temporários\n",
    "temp_dir = tempfile.mkdtemp(prefix='tts_temp_', dir=tempfile.gettempdir())\n",
    "\n",
    "recognizer = sr.Recognizer()\n",
    "\n",
    "\n",
    "# Função de nome do cliente\n",
    "def welcome_message():\n",
    "    welcome_text = \"Seja bem-vindo à Quantum Finance! Diga seu nome de cliente.\"\n",
    "    print(welcome_text)\n",
    "    tts = gTTS(text=welcome_text, lang='pt-br', slow=False)\n",
    "    tts.save(f\"{temp_dir}/welcome_message.mp3\")\n",
    "    play_audio(f\"{temp_dir}/welcome_message.mp3\")\n",
    "\n",
    "\n",
    "def repeat_welcome_message():\n",
    "    repeat_text = \"Não foi possível entender.\"\n",
    "    print(repeat_text)\n",
    "    tts = gTTS(text=repeat_text, lang='pt-br', slow=False)\n",
    "    tts.save(f\"{temp_dir}/repeat_welcome_message.mp3\")\n",
    "    play_audio(f\"{temp_dir}/repeat_welcome_message.mp3\")\n",
    "\n",
    "\n",
    "def play_audio(file_path):\n",
    "    pygame.mixer.init()\n",
    "    pygame.mixer.music.load(file_path)\n",
    "    pygame.mixer.music.play()\n",
    "    while pygame.mixer.music.get_busy():\n",
    "        pygame.time.Clock().tick(5)\n",
    "    pygame.mixer.quit()\n",
    "\n",
    "\n",
    "def get_client_name():\n",
    "    while True:\n",
    "        welcome_message()\n",
    "\n",
    "        with sr.Microphone() as source:\n",
    "            print(\"Aguardando o nome do cliente...\")\n",
    "            try:\n",
    "                audio = recognizer.listen(source, 10, 5)\n",
    "                client_name = recognizer.recognize_google(\n",
    "                    audio, language='pt-BR')\n",
    "                print(f\"Cliente disse: {client_name}\")\n",
    "\n",
    "                welcome_back_text = f\"Ficamos felizes em lhe atender, {client_name}.\"\n",
    "                print(welcome_back_text)\n",
    "                tts = gTTS(text=welcome_back_text, lang='pt-br', slow=False)\n",
    "                tts.save(f\"{temp_dir}/welcome_back_message.mp3\")\n",
    "                play_audio(f\"{temp_dir}/welcome_back_message.mp3\")\n",
    "\n",
    "                return client_name\n",
    "\n",
    "            except sr.UnknownValueError:\n",
    "                repeat_welcome_message()\n",
    "            except Exception as e:\n",
    "                print(f\"Vou pedir novamente {e}\")\n",
    "\n",
    "\n",
    "client_name = get_client_name()\n",
    "print(f\"Nome do cliente: {client_name}\")\n",
    "\n",
    "\n",
    "# Função das opções\n",
    "def handle_user_choice():\n",
    "    while True:\n",
    "        intro_text = \"Aqui estão as opções possíveis.\"\n",
    "        print(intro_text)\n",
    "        tts = gTTS(text=intro_text, lang='pt-br', slow=False)\n",
    "        tts.save(f\"{temp_dir}/intro_options.mp3\")\n",
    "        play_audio(f\"{temp_dir}/intro_options.mp3\")\n",
    "\n",
    "        for key in options:\n",
    "            option_text = options[key]\n",
    "            tts = gTTS(text=option_text, lang='pt-br', slow=False)\n",
    "            tts.save(f\"{temp_dir}/option_{key}.mp3\")\n",
    "            play_audio(f\"{temp_dir}/option_{key}.mp3\")\n",
    "\n",
    "        with sr.Microphone() as source:\n",
    "            print(\"Aguardando sua escolha...\")\n",
    "            try:\n",
    "                audio = recognizer.listen(source, 10, 5)\n",
    "                print(\"Processando sua resposta...\")\n",
    "                user_choice = recognizer.recognize_google(\n",
    "                    audio, language='pt-BR').lower()\n",
    "                print(f\"Você disse: {user_choice}\")\n",
    "\n",
    "                # Verificar se o usuário respondeu com um número de 1 a 4\n",
    "                if user_choice.isdigit() and 1 <= int(user_choice) <= 4:\n",
    "                    if user_choice == \"1\":\n",
    "                        choice_text = \"Você escolheu a opção 1. Vou seguir com sua solicitação. Seu saldo é de um milhão quinhentos e setenta e nove mil dólares.\"\n",
    "                    elif user_choice == \"2\":\n",
    "                        choice_text = \"Você escolheu a opção 2. Vou seguir com sua solicitação. Devido ao fuso horário, não podemos executar essa simulação no momento.\"\n",
    "                    elif user_choice == \"3\":\n",
    "                        choice_text = \"Você escolheu a opção 3. Vou seguir com sua solicitação. Infelizmente, todos estão ocupados assistindo BBB. Por favor, escolha essa opção mais tarde.\"\n",
    "                    elif user_choice == \"4\":\n",
    "                        choice_text = \"Muito obrigado e conte sempre conosco.\"\n",
    "                        print(choice_text)\n",
    "                        tts = gTTS(text=choice_text, lang='pt-br', slow=False)\n",
    "                        tts.save(f\"{temp_dir}/choice_response.mp3\")\n",
    "                        play_audio(f\"{temp_dir}/choice_response.mp3\")\n",
    "                        break  # Encerrar o loop se a escolha for 4\n",
    "\n",
    "                    print(f\"Bot: {choice_text}\")  # Imprimir a resposta do bot\n",
    "                    tts = gTTS(text=choice_text, lang='pt-br', slow=False)\n",
    "                    tts.save(f\"{temp_dir}/choice_response.mp3\")\n",
    "                    play_audio(f\"{temp_dir}/choice_response.mp3\")\n",
    "\n",
    "                else:\n",
    "                    retry_text = \"Desculpe, responda somente com a alternativa desejada.\"\n",
    "                    print(retry_text)\n",
    "                    tts = gTTS(text=retry_text, lang='pt-br', slow=False)\n",
    "                    tts.save(f\"{temp_dir}/retry_question.mp3\")\n",
    "                    play_audio(f\"{temp_dir}/retry_question.mp3\")\n",
    "                    time.sleep(1)\n",
    "\n",
    "            except sr.WaitTimeoutError:\n",
    "                print(\"Nenhum comando recebido. Reiniciando...\")\n",
    "            except Exception as e:\n",
    "                print(f\"Vou pedir novamente {e}\")\n",
    "\n",
    "\n",
    "# Definir opções\n",
    "options = {\n",
    "    \"1\": \"Um, Consultar saldo\",\n",
    "    \"2\": \"Dois, Simulação de empréstimo\",\n",
    "    \"3\": \"Três, Falar com um atendente\",\n",
    "    \"4\": \"Quatro, Encerrar atendimento\"\n",
    "}\n",
    "\n",
    "# Chamar a função para lidar com a escolha do usuário\n",
    "handle_user_choice()"
   ]
  }
 ],
 "metadata": {
  "kernelspec": {
   "display_name": "Python 3",
   "language": "python",
   "name": "python3"
  },
  "language_info": {
   "codemirror_mode": {
    "name": "ipython",
    "version": 3
   },
   "file_extension": ".py",
   "mimetype": "text/x-python",
   "name": "python",
   "nbconvert_exporter": "python",
   "pygments_lexer": "ipython3",
   "version": "3.11.3"
  }
 },
 "nbformat": 4,
 "nbformat_minor": 2
}
